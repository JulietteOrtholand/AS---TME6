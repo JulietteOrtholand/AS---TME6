{
 "cells": [
  {
   "cell_type": "code",
   "execution_count": 1,
   "metadata": {},
   "outputs": [],
   "source": [
    "%load_ext autoreload\n",
    "%autoreload 2\n",
    "\n",
    "import pandas as pd\n",
    "import numpy as np\n",
    "import torch\n",
    "from torchvision import datasets, transforms\n",
    "import matplotlib.pyplot as plt\n",
    "import torch.nn as nn"
   ]
  },
  {
   "cell_type": "code",
   "execution_count": 2,
   "metadata": {},
   "outputs": [],
   "source": [
    "## une fois le dataset telecharge, mettre download=False !\n",
    "## Pour le test, train = False\n",
    "## transform permet de faire un preprocessing des donnees (ici ?)\n",
    "batch_size=600\n",
    "nb_digits=10\n",
    "train_loader = torch.utils.data.DataLoader(datasets.MNIST('../data', train=True, download=True, \n",
    "                                                          transform=transforms.Compose([transforms.ToTensor(),\n",
    "                                                                                        transforms.Normalize((0.1307,),(0.3081,))])),\n",
    "                                                           batch_size=batch_size) \n",
    "\n"
   ]
  },
  {
   "cell_type": "code",
   "execution_count": 3,
   "metadata": {},
   "outputs": [],
   "source": [
    "y_onehot = torch.FloatTensor(batch_size, nb_digits) \n",
    "\n",
    "for i,(data,target) in enumerate(train_loader):\n",
    "    #print(i,data.size(),data.type(),target.size(),target.type())\n",
    "    # do something...\n",
    "    X = data\n",
    "    ## Encoding des labels en onehot\n",
    "    y_onehot.zero_()\n",
    "    y_onehot.scatter_(1, target.view(-1,1), 1)\n",
    "    break\n"
   ]
  },
  {
   "cell_type": "code",
   "execution_count": 4,
   "metadata": {},
   "outputs": [
    {
     "data": {
      "text/plain": [
       "torch.Size([600, 1, 28, 28])"
      ]
     },
     "execution_count": 4,
     "metadata": {},
     "output_type": "execute_result"
    }
   ],
   "source": [
    "X.shape"
   ]
  },
  {
   "cell_type": "code",
   "execution_count": 5,
   "metadata": {},
   "outputs": [
    {
     "data": {
      "text/plain": [
       "<matplotlib.image.AxesImage at 0x2a2ec6ad048>"
      ]
     },
     "execution_count": 5,
     "metadata": {},
     "output_type": "execute_result"
    },
    {
     "data": {
      "image/png": "[encoded data removed]",
      "text/plain": [
       "<Figure size 432x288 with 1 Axes>"
      ]
     },
     "metadata": {},
     "output_type": "display_data"
    }
   ],
   "source": [
    "plt.imshow(X[0][0])"
   ]
  },
  {
   "cell_type": "code",
   "execution_count": 6,
   "metadata": {},
   "outputs": [
    {
     "data": {
      "text/plain": [
       "tensor([5, 0, 4, 1, 9, 2, 1, 3, 1, 4, 3, 5, 3, 6, 1, 7, 2, 8, 6, 9, 4, 0, 9, 1,\n",
       "        1, 2, 4, 3, 2, 7, 3, 8, 6, 9, 0, 5, 6, 0, 7, 6, 1, 8, 7, 9, 3, 9, 8, 5,\n",
       "        9, 3, 3, 0, 7, 4, 9, 8, 0, 9, 4, 1, 4, 4, 6, 0, 4, 5, 6, 1, 0, 0, 1, 7,\n",
       "        1, 6, 3, 0, 2, 1, 1, 7, 9, 0, 2, 6, 7, 8, 3, 9, 0, 4, 6, 7, 4, 6, 8, 0,\n",
       "        7, 8, 3, 1, 5, 7, 1, 7, 1, 1, 6, 3, 0, 2, 9, 3, 1, 1, 0, 4, 9, 2, 0, 0,\n",
       "        2, 0, 2, 7, 1, 8, 6, 4, 1, 6, 3, 4, 5, 9, 1, 3, 3, 8, 5, 4, 7, 7, 4, 2,\n",
       "        8, 5, 8, 6, 7, 3, 4, 6, 1, 9, 9, 6, 0, 3, 7, 2, 8, 2, 9, 4, 4, 6, 4, 9,\n",
       "        7, 0, 9, 2, 9, 5, 1, 5, 9, 1, 2, 3, 2, 3, 5, 9, 1, 7, 6, 2, 8, 2, 2, 5,\n",
       "        0, 7, 4, 9, 7, 8, 3, 2, 1, 1, 8, 3, 6, 1, 0, 3, 1, 0, 0, 1, 7, 2, 7, 3,\n",
       "        0, 4, 6, 5, 2, 6, 4, 7, 1, 8, 9, 9, 3, 0, 7, 1, 0, 2, 0, 3, 5, 4, 6, 5,\n",
       "        8, 6, 3, 7, 5, 8, 0, 9, 1, 0, 3, 1, 2, 2, 3, 3, 6, 4, 7, 5, 0, 6, 2, 7,\n",
       "        9, 8, 5, 9, 2, 1, 1, 4, 4, 5, 6, 4, 1, 2, 5, 3, 9, 3, 9, 0, 5, 9, 6, 5,\n",
       "        7, 4, 1, 3, 4, 0, 4, 8, 0, 4, 3, 6, 8, 7, 6, 0, 9, 7, 5, 7, 2, 1, 1, 6,\n",
       "        8, 9, 4, 1, 5, 2, 2, 9, 0, 3, 9, 6, 7, 2, 0, 3, 5, 4, 3, 6, 5, 8, 9, 5,\n",
       "        4, 7, 4, 2, 7, 3, 4, 8, 9, 1, 9, 2, 8, 7, 9, 1, 8, 7, 4, 1, 3, 1, 1, 0,\n",
       "        2, 3, 9, 4, 9, 2, 1, 6, 8, 4, 7, 7, 4, 4, 9, 2, 5, 7, 2, 4, 4, 2, 1, 9,\n",
       "        7, 2, 8, 7, 6, 9, 2, 2, 3, 8, 1, 6, 5, 1, 1, 0, 2, 6, 4, 5, 8, 3, 1, 5,\n",
       "        1, 9, 2, 7, 4, 4, 4, 8, 1, 5, 8, 9, 5, 6, 7, 9, 9, 3, 7, 0, 9, 0, 6, 6,\n",
       "        2, 3, 9, 0, 7, 5, 4, 8, 0, 9, 4, 1, 2, 8, 7, 1, 2, 6, 1, 0, 3, 0, 1, 1,\n",
       "        8, 2, 0, 3, 9, 4, 0, 5, 0, 6, 1, 7, 7, 8, 1, 9, 2, 0, 5, 1, 2, 2, 7, 3,\n",
       "        5, 4, 9, 7, 1, 8, 3, 9, 6, 0, 3, 1, 1, 2, 6, 3, 5, 7, 6, 8, 3, 9, 5, 8,\n",
       "        5, 7, 6, 1, 1, 3, 1, 7, 5, 5, 5, 2, 5, 8, 7, 0, 9, 7, 7, 5, 0, 9, 0, 0,\n",
       "        8, 9, 2, 4, 8, 1, 6, 1, 6, 5, 1, 8, 3, 4, 0, 5, 5, 8, 3, 6, 2, 3, 9, 2,\n",
       "        1, 1, 5, 2, 1, 3, 2, 8, 7, 3, 7, 2, 4, 6, 9, 7, 2, 4, 2, 8, 1, 1, 3, 8,\n",
       "        4, 0, 6, 5, 9, 3, 0, 9, 2, 4, 7, 1, 2, 9, 4, 2, 6, 1, 8, 9, 0, 6, 6, 7])"
      ]
     },
     "execution_count": 6,
     "metadata": {},
     "output_type": "execute_result"
    }
   ],
   "source": [
    "target"
   ]
  },
  {
   "cell_type": "code",
   "execution_count": 7,
   "metadata": {},
   "outputs": [],
   "source": [
    "class ConvNet1(nn.Module):\n",
    "    \n",
    "    def __init__(self):\n",
    "        super(ConvNet1, self).__init__()\n",
    "        self.conv1 = nn.Sequential(\n",
    "            nn.Conv2d(1, 3, kernel_size=3, stride=1),\n",
    "        )\n",
    "        self.tret = nn.Sequential(\n",
    "            nn.ReLU(),\n",
    "            nn.MaxPool2d(3, stride=3)\n",
    "        )\n",
    "        self.clas = nn.Sequential(\n",
    "            nn.Linear(24, 10),\n",
    "            #nn.ReLU(),\n",
    "            #nn.Linear(100, 3)\n",
    "        )\n",
    "    \n",
    "    def forward(self, X):\n",
    "        out = self.conv1(X)\n",
    "        out = self.tret(out)\n",
    "        out = out.mean(dim=len(out.shape)-1)\n",
    "        out = out.view(X.shape[0], -1)\n",
    "        out = self.clas(out)\n",
    "        return out\n",
    "    \n",
    "    def score(self,ypred,y):\n",
    "        score = 0\n",
    "        if len(y) != len(ypred):\n",
    "            print('ERREUR')\n",
    "        for i in range(0,len(y)):\n",
    "            if y[i] == ypred[i].argmax():\n",
    "                score += 1\n",
    "        return(score/len(y))"
   ]
  },
  {
   "cell_type": "markdown",
   "metadata": {},
   "source": [
    "A lire (mémo pour juliette):\n",
    "* https://hackernoon.com/visualizing-parts-of-convolutional-neural-networks-using-keras-and-cats-5cc01b214e59\n",
    "* https://jacobgil.github.io/deeplearning/filter-visualizations\n",
    "* https://www.quora.com/What-are-good-ways-to-visualize-filters-in-convolution-neural-network\n",
    "* https://www.youtube.com/watch?v=cNBBNAxC8l4\n",
    "* http://setosa.io/ev/image-kernels/\n",
    "* https://ludo-louis.fr/differents-types-reseaux-neurones-reseau-convolution/\n"
   ]
  },
  {
   "cell_type": "code",
   "execution_count": 8,
   "metadata": {},
   "outputs": [
    {
     "name": "stdout",
     "output_type": "stream",
     "text": [
      "0\n",
      "1\n",
      "2\n",
      "3\n",
      "4\n",
      "5\n",
      "6\n",
      "7\n",
      "8\n",
      "9\n"
     ]
    }
   ],
   "source": [
    "model = ConvNet1()\n",
    "loss = nn.CrossEntropyLoss()\n",
    "optim = torch.optim.SGD(model.parameters(), lr=1e-3, momentum=0.9)\n",
    "\n",
    "train_loss = []\n",
    "test_loss = []\n",
    "\n",
    "train_score = []\n",
    "test_score = []\n",
    "\n",
    "\n",
    "### Train\n",
    "#--------------------------------------------------------\n",
    "for k in range(10):\n",
    "    print(k)\n",
    "    ####### TRAIN #######\n",
    "    costs_train = []\n",
    "    scores_train = []\n",
    "    costs_test = []\n",
    "    scores_test = []\n",
    "    for i,(x,target) in enumerate(train_loader):\n",
    "        if i <75 :\n",
    "            ## Encoding des labels en onehot\n",
    "            out = model(x)\n",
    "            cost = loss(out, target)\n",
    "            optim.zero_grad()\n",
    "            cost.backward()\n",
    "            optim.step()\n",
    "            costs_train.append(cost)\n",
    "            scores_train.append(model.score(out, target))\n",
    "        else :\n",
    "            ## Encoding des labels en onehot\n",
    "            out = model(x)\n",
    "            cost = loss(out, target)\n",
    "            optim.zero_grad()\n",
    "            cost.backward()\n",
    "            optim.step()\n",
    "            costs_test.append(cost)\n",
    "            scores_test.append(model.score(out, target))\n",
    "            \n",
    "        train_loss.append(torch.tensor(costs_train).mean())\n",
    "        train_score.append(torch.tensor(scores_train).mean())\n",
    "        test_loss.append(torch.tensor(costs_test).mean())\n",
    "        test_score.append(torch.tensor(scores_test).mean())\n"
   ]
  },
  {
   "cell_type": "code",
   "execution_count": 10,
   "metadata": {},
   "outputs": [
    {
     "data": {
      "image/png": "[encoded data removed]",
      "text/plain": [
       "<Figure size 720x504 with 1 Axes>"
      ]
     },
     "metadata": {},
     "output_type": "display_data"
    }
   ],
   "source": [
    "import matplotlib.pyplot as plt\n",
    "\n",
    "plt.figure(figsize=(10,7))\n",
    "plt.plot(train_loss, c=\"red\", label=\"train\")\n",
    "plt.plot(test_loss, c=\"b\", label=\"val\")\n",
    "plt.legend(loc=\"best\")\n",
    "plt.show()"
   ]
  },
  {
   "cell_type": "code",
   "execution_count": 11,
   "metadata": {},
   "outputs": [
    {
     "data": {
      "image/png": "[encoded data removed]",
      "text/plain": [
       "<Figure size 720x504 with 1 Axes>"
      ]
     },
     "metadata": {},
     "output_type": "display_data"
    }
   ],
   "source": [
    "import matplotlib.pyplot as plt\n",
    "\n",
    "plt.figure(figsize=(10,7))\n",
    "plt.plot(train_score, c=\"red\", label=\"train\")\n",
    "plt.plot(test_score, c=\"b\", label=\"val\")\n",
    "plt.legend(loc=\"best\")\n",
    "plt.show()"
   ]
  },
  {
   "cell_type": "code",
   "execution_count": null,
   "metadata": {},
   "outputs": [],
   "source": [
    "plt.imshow(model.conv1(X).detach().numpy()[0][0])"
   ]
  },
  {
   "cell_type": "code",
   "execution_count": null,
   "metadata": {},
   "outputs": [],
   "source": [
    "plt.imshow(X[0][0])"
   ]
  },
  {
   "cell_type": "code",
   "execution_count": 26,
   "metadata": {},
   "outputs": [
    {
     "name": "stderr",
     "output_type": "stream",
     "text": [
      "Clipping input data to the valid range for imshow with RGB data ([0..1] for floats or [0..255] for integers).\n"
     ]
    },
    {
     "data": {
      "text/plain": [
       "<matplotlib.image.AxesImage at 0x2a2eef5add8>"
      ]
     },
     "execution_count": 26,
     "metadata": {},
     "output_type": "execute_result"
    },
    {
     "data": {
      "image/png": "[encoded data removed]",
      "text/plain": [
       "<Figure size 432x288 with 1 Axes>"
      ]
     },
     "metadata": {},
     "output_type": "display_data"
    }
   ],
   "source": [
    "plt.imshow(model.conv1[0].weight.detach().numpy().reshape(3,3,3))"
   ]
  },
  {
   "cell_type": "code",
   "execution_count": 25,
   "metadata": {},
   "outputs": [
    {
     "data": {
      "text/plain": [
       "array([[[ 0.44376823, -0.18269609, -0.05078409],\n",
       "        [ 0.5215045 , -0.05036559, -0.22877654],\n",
       "        [ 0.05481749,  0.21560113, -0.11206941]],\n",
       "\n",
       "       [[ 0.7348676 ,  0.86878335,  0.64533275],\n",
       "        [ 0.7041761 ,  0.7369027 ,  0.605772  ],\n",
       "        [ 0.12157319, -0.32256734, -0.00889808]],\n",
       "\n",
       "       [[-0.18170854, -0.6069307 , -0.5296611 ],\n",
       "        [ 0.26738814,  0.22865647,  0.4939784 ],\n",
       "        [ 0.80203635,  0.6977812 ,  0.7509053 ]]], dtype=float32)"
      ]
     },
     "execution_count": 25,
     "metadata": {},
     "output_type": "execute_result"
    }
   ],
   "source": [
    "model.conv1[0].weight.detach().numpy().reshape(3,3,3)"
   ]
  },
  {
   "cell_type": "code",
   "execution_count": null,
   "metadata": {},
   "outputs": [],
   "source": []
  }
 ],
 "metadata": {
  "kernelspec": {
   "display_name": "Python 3",
   "language": "python",
   "name": "python3"
  },
  "language_info": {
   "codemirror_mode": {
    "name": "ipython",
    "version": 3
   },
   "file_extension": ".py",
   "mimetype": "text/x-python",
   "name": "python",
   "nbconvert_exporter": "python",
   "pygments_lexer": "ipython3",
   "version": "3.6.5"
  }
 },
 "nbformat": 4,
 "nbformat_minor": 2
}
