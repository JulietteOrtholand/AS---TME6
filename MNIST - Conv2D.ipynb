{
 "cells": [
  {
   "cell_type": "code",
   "execution_count": 21,
   "metadata": {},
   "outputs": [
    {
     "name": "stdout",
     "output_type": "stream",
     "text": [
      "The autoreload extension is already loaded. To reload it, use:\n",
      "  %reload_ext autoreload\n"
     ]
    }
   ],
   "source": [
    "%load_ext autoreload\n",
    "%autoreload 2\n",
    "\n",
    "import pandas as pd\n",
    "import numpy as np\n",
    "import torch\n",
    "from torchvision import datasets, transforms\n",
    "import matplotlib.pyplot as plt\n",
    "import torch.nn as nn"
   ]
  },
  {
   "cell_type": "code",
   "execution_count": 40,
   "metadata": {},
   "outputs": [],
   "source": [
    "## une fois le dataset telecharge, mettre download=False !\n",
    "## Pour le test, train = False\n",
    "## transform permet de faire un preprocessing des donnees (ici ?)\n",
    "batch_size=600\n",
    "nb_digits=10\n",
    "train_loader = torch.utils.data.DataLoader(datasets.MNIST('../data', train=True, download=True, \n",
    "                                                          transform=transforms.Compose([transforms.ToTensor(),\n",
    "                                                                                        transforms.Normalize((0.1307,),(0.3081,))])),\n",
    "                                                           batch_size=batch_size) \n",
    "\n"
   ]
  },
  {
   "cell_type": "code",
   "execution_count": 17,
   "metadata": {},
   "outputs": [],
   "source": [
    "y_onehot = torch.FloatTensor(batch_size, nb_digits) \n",
    "\n",
    "for i,(data,target) in enumerate(train_loader):\n",
    "    #print(i,data.size(),data.type(),target.size(),target.type())\n",
    "    # do something...\n",
    "    X = data\n",
    "    ## Encoding des labels en onehot\n",
    "    y_onehot.zero_()\n",
    "    y_onehot.scatter_(1, target.view(-1,1), 1)\n",
    "    break\n"
   ]
  },
  {
   "cell_type": "code",
   "execution_count": 18,
   "metadata": {},
   "outputs": [
    {
     "data": {
      "text/plain": [
       "torch.Size([600, 1, 28, 28])"
      ]
     },
     "execution_count": 18,
     "metadata": {},
     "output_type": "execute_result"
    }
   ],
   "source": [
    "X.shape"
   ]
  },
  {
   "cell_type": "code",
   "execution_count": 19,
   "metadata": {},
   "outputs": [
    {
     "data": {
      "text/plain": [
       "<matplotlib.image.AxesImage at 0x1a7ed313a20>"
      ]
     },
     "execution_count": 19,
     "metadata": {},
     "output_type": "execute_result"
    },
    {
     "data": {
      "image/png": "[encoded data removed]",
      "text/plain": [
       "<Figure size 432x288 with 1 Axes>"
      ]
     },
     "metadata": {},
     "output_type": "display_data"
    }
   ],
   "source": [
    "plt.imshow(X[0][0])"
   ]
  },
  {
   "cell_type": "code",
   "execution_count": 25,
   "metadata": {},
   "outputs": [
    {
     "data": {
      "text/plain": [
       "tensor([3, 8, 3, 6, 4, 1, 1, 2, 4, 3, 3, 9, 8, 0, 2, 8, 4, 6, 7, 1, 7, 6, 7, 2,\n",
       "        9, 0, 1, 6, 0, 5, 8, 8, 7, 1, 5, 1, 0, 3, 0, 9, 6, 6, 6, 1, 5, 1, 7, 8,\n",
       "        3, 5, 7, 0, 5, 7, 5, 9, 1, 1, 7, 6, 9, 6, 9, 0, 2, 2, 0, 3, 6, 6, 8, 7,\n",
       "        1, 8, 3, 1, 1, 9, 3, 9, 1, 1, 5, 3, 4, 5, 1, 5, 1, 1, 1, 6, 7, 5, 1, 7,\n",
       "        3, 2, 5, 1, 3, 5, 7, 6, 6, 2, 8, 4, 6, 3, 2, 5, 3, 3, 3, 4, 5, 0, 3, 4,\n",
       "        9, 5, 0, 9, 9, 9, 2, 6, 2, 7, 7, 1, 9, 9, 7, 7, 6, 2, 1, 2, 6, 8, 5, 3,\n",
       "        5, 5, 4, 1, 1, 7, 9, 8, 0, 2, 8, 9, 3, 1, 7, 3, 2, 4, 4, 1, 0, 7, 1, 6,\n",
       "        8, 1, 9, 4, 2, 5, 2, 0, 2, 5, 0, 1, 7, 4, 0, 3, 6, 0, 1, 5, 1, 7, 6, 2,\n",
       "        8, 7, 2, 3, 4, 3, 4, 6, 0, 1, 7, 3, 3, 4, 4, 0, 3, 1, 0, 6, 4, 4, 1, 2,\n",
       "        1, 8, 4, 1, 0, 8, 3, 6, 2, 5, 5, 3, 8, 5, 5, 8, 7, 1, 6, 9, 7, 4, 4, 0,\n",
       "        2, 3, 8, 3, 0, 0, 7, 7, 9, 0, 9, 6, 2, 4, 8, 3, 8, 4, 8, 3, 4, 2, 8, 9,\n",
       "        0, 9, 4, 5, 0, 4, 7, 9, 8, 5, 0, 2, 1, 3, 9, 7, 5, 6, 2, 5, 0, 7, 4, 3,\n",
       "        0, 2, 2, 3, 1, 1, 4, 0, 8, 3, 1, 8, 5, 8, 6, 2, 3, 0, 9, 6, 7, 2, 1, 3,\n",
       "        0, 2, 8, 0, 8, 0, 3, 5, 7, 1, 1, 7, 2, 3, 5, 7, 2, 6, 1, 0, 3, 5, 8, 7,\n",
       "        8, 8, 4, 7, 3, 7, 8, 1, 0, 0, 2, 9, 3, 1, 8, 8, 6, 5, 6, 7, 8, 9, 4, 4,\n",
       "        3, 1, 1, 1, 9, 1, 8, 1, 3, 5, 0, 3, 6, 1, 0, 7, 4, 8, 2, 4, 1, 4, 5, 9,\n",
       "        1, 7, 2, 4, 5, 6, 2, 7, 4, 2, 9, 9, 9, 3, 4, 0, 9, 2, 8, 4, 8, 9, 0, 8,\n",
       "        3, 4, 3, 5, 7, 2, 8, 2, 9, 1, 8, 5, 3, 2, 6, 2, 9, 2, 6, 7, 2, 8, 2, 1,\n",
       "        1, 7, 7, 6, 2, 7, 2, 6, 3, 5, 4, 0, 2, 9, 7, 2, 7, 5, 7, 2, 1, 2, 1, 7,\n",
       "        5, 4, 3, 0, 3, 4, 4, 1, 8, 1, 4, 2, 3, 5, 2, 5, 0, 2, 1, 0, 3, 1, 3, 2,\n",
       "        6, 5, 4, 5, 6, 8, 8, 6, 3, 9, 8, 7, 9, 4, 7, 8, 7, 5, 3, 6, 6, 5, 9, 5,\n",
       "        5, 1, 3, 3, 9, 9, 3, 7, 2, 9, 2, 7, 6, 3, 5, 1, 1, 0, 4, 3, 7, 4, 0, 4,\n",
       "        3, 9, 2, 3, 6, 4, 1, 6, 9, 1, 8, 8, 5, 6, 9, 1, 3, 8, 4, 9, 7, 2, 3, 1,\n",
       "        1, 4, 5, 6, 2, 1, 1, 5, 8, 3, 0, 8, 1, 9, 9, 8, 1, 2, 7, 0, 4, 6, 1, 2,\n",
       "        3, 1, 2, 0, 0, 9, 3, 9, 4, 2, 9, 6, 7, 4, 2, 3, 8, 0, 1, 6, 3, 6, 8, 4])"
      ]
     },
     "execution_count": 25,
     "metadata": {},
     "output_type": "execute_result"
    }
   ],
   "source": [
    "target"
   ]
  },
  {
   "cell_type": "code",
   "execution_count": 31,
   "metadata": {},
   "outputs": [],
   "source": [
    "class ConvNet1(nn.Module):\n",
    "    \n",
    "    def __init__(self):\n",
    "        super(ConvNet1, self).__init__()\n",
    "        self.conv1 = nn.Sequential(\n",
    "            nn.Conv2d(1, 3, kernel_size=3, stride=1),\n",
    "        )\n",
    "        self.tret = nn.Sequential(\n",
    "            nn.ReLU(),\n",
    "            nn.MaxPool2d(3, stride=3)\n",
    "        )\n",
    "        self.clas = nn.Sequential(\n",
    "            nn.Linear(24, 10),\n",
    "            #nn.ReLU(),\n",
    "            #nn.Linear(100, 3)\n",
    "        )\n",
    "    \n",
    "    def forward(self, X):\n",
    "        out = self.conv1(X)\n",
    "        out = self.tret(out)\n",
    "        out = out.mean(dim=len(out.shape)-1)\n",
    "        out = out.view(X.shape[0], -1)\n",
    "        out = self.clas(out)\n",
    "        return out\n",
    "    \n",
    "    def score(self,ypred,y):\n",
    "        score = 0\n",
    "        if len(y) != len(ypred):\n",
    "            print('ERREUR')\n",
    "        for i in range(0,len(y)):\n",
    "            if y[i] == ypred[i].argmax():\n",
    "                score += 1\n",
    "        return(score/len(y))"
   ]
  },
  {
   "cell_type": "markdown",
   "metadata": {},
   "source": [
    "A lire (mémo pour juliette):\n",
    "* https://hackernoon.com/visualizing-parts-of-convolutional-neural-networks-using-keras-and-cats-5cc01b214e59\n",
    "* https://jacobgil.github.io/deeplearning/filter-visualizations\n",
    "* https://www.quora.com/What-are-good-ways-to-visualize-filters-in-convolution-neural-network\n",
    "* https://www.youtube.com/watch?v=cNBBNAxC8l4\n",
    "* http://setosa.io/ev/image-kernels/\n",
    "* https://ludo-louis.fr/differents-types-reseaux-neurones-reseau-convolution/\n"
   ]
  },
  {
   "cell_type": "code",
   "execution_count": 48,
   "metadata": {},
   "outputs": [
    {
     "name": "stdout",
     "output_type": "stream",
     "text": [
      "0\n",
      "1\n",
      "2\n",
      "3\n",
      "4\n",
      "5\n",
      "6\n",
      "7\n",
      "8\n",
      "9\n"
     ]
    }
   ],
   "source": [
    "model = ConvNet1()\n",
    "loss = nn.CrossEntropyLoss()\n",
    "optim = torch.optim.SGD(model.parameters(), lr=1e-3, momentum=0.9)\n",
    "\n",
    "train_loss = []\n",
    "test_loss = []\n",
    "\n",
    "train_score = []\n",
    "test_score = []\n",
    "\n",
    "\n",
    "### Train\n",
    "#--------------------------------------------------------\n",
    "for k in range(10):\n",
    "    print(k)\n",
    "    ####### TRAIN #######\n",
    "    costs_train = []\n",
    "    scores_train = []\n",
    "    costs_test = []\n",
    "    scores_test = []\n",
    "    for i,(x,target) in enumerate(train_loader):\n",
    "        if i <75 :\n",
    "            ## Encoding des labels en onehot\n",
    "            out = model(x)\n",
    "            cost = loss(out, target)\n",
    "            optim.zero_grad()\n",
    "            cost.backward()\n",
    "            optim.step()\n",
    "            costs_train.append(cost)\n",
    "            scores_train.append(model.score(out, target))\n",
    "        else :\n",
    "            ## Encoding des labels en onehot\n",
    "            out = model(x)\n",
    "            cost = loss(out, target)\n",
    "            optim.zero_grad()\n",
    "            cost.backward()\n",
    "            optim.step()\n",
    "            costs_test.append(cost)\n",
    "            scores_test.append(model.score(out, target))\n",
    "            \n",
    "        train_loss.append(torch.tensor(costs_train).mean())\n",
    "        train_score.append(torch.tensor(scores_train).mean())\n",
    "        test_loss.append(torch.tensor(costs_test).mean())\n",
    "        test_score.append(torch.tensor(scores_test).mean())\n"
   ]
  },
  {
   "cell_type": "code",
   "execution_count": 49,
   "metadata": {},
   "outputs": [
    {
     "data": {
      "image/png": "[encoded data removed]",
      "text/plain": [
       "<Figure size 720x504 with 1 Axes>"
      ]
     },
     "metadata": {},
     "output_type": "display_data"
    }
   ],
   "source": [
    "import matplotlib.pyplot as plt\n",
    "\n",
    "plt.figure(figsize=(10,7))\n",
    "plt.plot(train_loss, c=\"red\", label=\"train\")\n",
    "plt.plot(val_loss, c=\"b\", label=\"val\")\n",
    "plt.legend(loc=\"best\")\n",
    "plt.show()"
   ]
  },
  {
   "cell_type": "code",
   "execution_count": 50,
   "metadata": {},
   "outputs": [
    {
     "data": {
      "image/png": "[encoded data removed]",
      "text/plain": [
       "<Figure size 720x504 with 1 Axes>"
      ]
     },
     "metadata": {},
     "output_type": "display_data"
    }
   ],
   "source": [
    "import matplotlib.pyplot as plt\n",
    "\n",
    "plt.figure(figsize=(10,7))\n",
    "plt.plot(train_score, c=\"red\", label=\"train\")\n",
    "plt.plot(val_score, c=\"b\", label=\"val\")\n",
    "plt.legend(loc=\"best\")\n",
    "plt.show()"
   ]
  },
  {
   "cell_type": "code",
   "execution_count": 54,
   "metadata": {},
   "outputs": [
    {
     "data": {
      "text/plain": [
       "<matplotlib.image.AxesImage at 0x1a7ed2bdc18>"
      ]
     },
     "execution_count": 54,
     "metadata": {},
     "output_type": "execute_result"
    },
    {
     "data": {
      "image/png": "[encoded data removed]",
      "text/plain": [
       "<Figure size 432x288 with 1 Axes>"
      ]
     },
     "metadata": {},
     "output_type": "display_data"
    }
   ],
   "source": [
    "plt.imshow(model.conv1(X).detach().numpy()[0][0])"
   ]
  },
  {
   "cell_type": "code",
   "execution_count": 55,
   "metadata": {},
   "outputs": [
    {
     "data": {
      "text/plain": [
       "<matplotlib.image.AxesImage at 0x1a7ed8459e8>"
      ]
     },
     "execution_count": 55,
     "metadata": {},
     "output_type": "execute_result"
    },
    {
     "data": {
      "image/png": "[encoded data removed]",
      "text/plain": [
       "<Figure size 432x288 with 1 Axes>"
      ]
     },
     "metadata": {},
     "output_type": "display_data"
    }
   ],
   "source": [
    "plt.imshow(X[0][0])"
   ]
  },
  {
   "cell_type": "code",
   "execution_count": null,
   "metadata": {},
   "outputs": [],
   "source": []
  }
 ],
 "metadata": {
  "kernelspec": {
   "display_name": "Python 3",
   "language": "python",
   "name": "python3"
  },
  "language_info": {
   "codemirror_mode": {
    "name": "ipython",
    "version": 3
   },
   "file_extension": ".py",
   "mimetype": "text/x-python",
   "name": "python",
   "nbconvert_exporter": "python",
   "pygments_lexer": "ipython3",
   "version": "3.6.5"
  }
 },
 "nbformat": 4,
 "nbformat_minor": 2
}
