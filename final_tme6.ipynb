{
 "cells": [
  {
   "cell_type": "markdown",
   "metadata": {},
   "source": [
    "# AS - TME6\n",
    "2018-2019\n",
    "\n",
    "Binome : Stieban Fernandez, Juliette Ortholand\n",
    "\n",
    "---"
   ]
  },
  {
   "cell_type": "markdown",
   "metadata": {},
   "source": [
    "## Librairies utiles"
   ]
  },
  {
   "cell_type": "code",
   "execution_count": 2,
   "metadata": {},
   "outputs": [],
   "source": [
    "import sys\n",
    "sys.path.insert(0, \"/users/Enseignants/baskiotis/.local/lib/python3.5/site-packages\")"
   ]
  },
  {
   "cell_type": "code",
   "execution_count": 2,
   "metadata": {},
   "outputs": [
    {
     "name": "stderr",
     "output_type": "stream",
     "text": [
      "C:\\Users\\Steban\\Anaconda3\\lib\\site-packages\\h5py\\__init__.py:36: FutureWarning: Conversion of the second argument of issubdtype from `float` to `np.floating` is deprecated. In future, it will be treated as `np.float64 == np.dtype(float).type`.\n",
      "  from ._conv import register_converters as _register_converters\n"
     ]
    }
   ],
   "source": [
    "import logging\n",
    "import torchtext\n",
    "import torchtext.datasets as datasets\n",
    "import torchtext.data as data\n",
    "import torch.nn as nn\n",
    "import torch\n",
    "\n",
    "from torchvision import transforms\n",
    "import torchvision.datasets as datasets_vision\n",
    "\n",
    "import tensorboard\n",
    "import tensorboardX\n",
    "import tensorflow\n",
    "import spacy\n",
    "import nltk\n",
    "\n",
    "from tqdm import tqdm"
   ]
  },
  {
   "cell_type": "markdown",
   "metadata": {},
   "source": [
    "## Convolutional Neural Network"
   ]
  },
  {
   "cell_type": "code",
   "execution_count": 3,
   "metadata": {},
   "outputs": [],
   "source": [
    "class ConvNet1(nn.Module):\n",
    "    \"\"\" Simple CNN 1D for analysis \"\"\"\n",
    "    \n",
    "    def __init__(self, channels_size):\n",
    "        super(ConvNet1, self).__init__()\n",
    "        \n",
    "        self.conv = nn.Conv1d(channels_size, 3, kernel_size=3, stride=1)\n",
    "        self.tret = nn.Sequential(\n",
    "            nn.ReLU(),\n",
    "            nn.AdaptiveMaxPool1d(1)\n",
    "        )\n",
    "        self.clas = nn.Linear(3, 3)\n",
    "        \n",
    "    def forward(self, X):\n",
    "        out = self.conv(X)\n",
    "        out = self.tret(out)\n",
    "        out = self.clas(out.squeeze())\n",
    "        return out"
   ]
  },
  {
   "cell_type": "code",
   "execution_count": 3,
   "metadata": {},
   "outputs": [],
   "source": [
    "class ConvNet2(nn.Module):\n",
    "    \"\"\" Simple CNN 2D for analysis \"\"\"\n",
    "    \n",
    "    def __init__(self, channels_size, output_size):\n",
    "        super(ConvNet2, self).__init__()\n",
    "        \n",
    "        self.conv = nn.Sequential(\n",
    "            nn.Conv2d(channels_size, 3, kernel_size=(3,3), stride=1),\n",
    "            nn.ReLU(),\n",
    "            nn.MaxPool2d(3, stride=3)\n",
    "        )\n",
    "        self.clas = nn.Linear(24, output_size)\n",
    "        \n",
    "    def forward(self, X):\n",
    "        out = self.conv(X)\n",
    "        out = out.mean(len(out.shape)-1).view(X.shape[0], -1)\n",
    "        out = self.clas(out)\n",
    "        return out"
   ]
  },
  {
   "cell_type": "code",
   "execution_count": 6,
   "metadata": {},
   "outputs": [],
   "source": [
    "class ConvNet3(nn.Module):\n",
    "    \"\"\" More complex than ConvNet2 \"\"\"\n",
    "    \n",
    "    def __init__(self, channels_size, output_size):\n",
    "        super(ConvNet3, self).__init__()\n",
    "        \n",
    "        self.conv = nn.Sequential(\n",
    "            nn.Conv2d(channels_size, 24, kernel_size=3, stride=1, padding=1),\n",
    "            #nn.ReLU(),\n",
    "            #nn.Conv2d(24, 14, kernel_size=(3,3), stride=1),\n",
    "            nn.ReLU(),\n",
    "            nn.AdaptiveMaxPool2d(28)\n",
    "        )\n",
    "        self.clas = nn.Sequential(\n",
    "            nn.Linear(24*28*28, 32),\n",
    "            nn.ReLU(),\n",
    "            nn.Linear(32, output_size)\n",
    "        )\n",
    "        \n",
    "    def forward(self, X):\n",
    "        out = self.conv(X)\n",
    "        out = self.clas(out.view(X.shape[0], -1))\n",
    "        return out"
   ]
  },
  {
   "cell_type": "markdown",
   "metadata": {},
   "source": [
    "---"
   ]
  },
  {
   "cell_type": "markdown",
   "metadata": {},
   "source": [
    "## Sentiment Analysis"
   ]
  },
  {
   "cell_type": "markdown",
   "metadata": {},
   "source": [
    "### Préparation des données"
   ]
  },
  {
   "cell_type": "code",
   "execution_count": 6,
   "metadata": {},
   "outputs": [
    {
     "name": "stderr",
     "output_type": "stream",
     "text": [
      "The `device` argument should be set by using `torch.device` or passing a string as an argument. This behavior will be deprecated soon and currently defaults to cpu.\n",
      "The `device` argument should be set by using `torch.device` or passing a string as an argument. This behavior will be deprecated soon and currently defaults to cpu.\n",
      "The `device` argument should be set by using `torch.device` or passing a string as an argument. This behavior will be deprecated soon and currently defaults to cpu.\n"
     ]
    }
   ],
   "source": [
    "#DATA_DIR=\"/users/Enseignants/baskiotis/AS\"\n",
    "DATA_DIR=\"C:\\\\Users\\\\Steban\\\\Documents\\\\Cours\\\\M2\\\\AS\\\\data\"\n",
    "\n",
    "DATASET_DIR=\"%s/datasets\" % DATA_DIR\n",
    "VECTORS_DIR=\"%s/vectors\" % DATA_DIR\n",
    "\n",
    "# text\n",
    "TEXT=data.Field(lower=True,include_lengths=False,batch_first=True)\n",
    "LABEL = data.Field(sequential=False, is_target=True)\n",
    "\n",
    "# make splits for data\n",
    "train, val, test = datasets.sst.SST.splits(TEXT, LABEL,root=DATASET_DIR)\n",
    "\n",
    "# Use the vocabulary\n",
    "wordemb = torchtext.vocab.GloVe(\"6B\", dim=100, cache=VECTORS_DIR)\n",
    "# Build the vocabularies\n",
    "# for labels, we use special_first to False so <unk> is last\n",
    "# (to discard it)\n",
    "TEXT.build_vocab(train, vectors=wordemb)\n",
    "LABEL.build_vocab(train, specials_first=False)\n",
    "train_iter, val_iter, test_iter = data.BucketIterator.splits(\n",
    "(train, val, test), batch_size=1000, device=0)\n",
    "\n",
    "nn_embeddings = nn.Embedding.from_pretrained(TEXT.vocab.vectors)"
   ]
  },
  {
   "cell_type": "code",
   "execution_count": 7,
   "metadata": {},
   "outputs": [
    {
     "name": "stdout",
     "output_type": "stream",
     "text": [
      "torch.Size([16583, 100])\n",
      "Embedding(16583, 100)\n"
     ]
    }
   ],
   "source": [
    "print(TEXT.vocab.vectors.shape)\n",
    "print(nn_embeddings)"
   ]
  },
  {
   "cell_type": "markdown",
   "metadata": {},
   "source": [
    "### Analyse"
   ]
  },
  {
   "cell_type": "markdown",
   "metadata": {},
   "source": [
    "Apprentissage"
   ]
  },
  {
   "cell_type": "code",
   "execution_count": 8,
   "metadata": {},
   "outputs": [],
   "source": [
    "def fit_eval(model, train_iter, val_iter, loss=nn.CrossEntropyLoss(), n_epochs=20, lr=1e-3):\n",
    "    optim = torch.optim.Adam(model.parameters(), lr=lr)\n",
    "    \n",
    "    train_loss = []\n",
    "    val_loss = []\n",
    "\n",
    "    train_score = []\n",
    "    val_score = []\n",
    "    \n",
    "    # Fit / Eval\n",
    "    #--------------------------------------------------------\n",
    "    for i in tqdm(range(n_epochs)):\n",
    "        ####### TRAIN #######\n",
    "        costs_train = []\n",
    "        scores_train = []\n",
    "        for batch in train_iter:\n",
    "            t = batch.text # batch_size phrases de max nb mots (taille variable), reste du vecteur complété par 1\n",
    "            l = batch.label # vecteur de 10 \n",
    "            x = nn_embeddings(t).transpose(1,2) # shape : (batch_size, input_channels, nb_mots_max)\n",
    "\n",
    "            out = model(x)\n",
    "            cost = loss(out, l) \n",
    "            optim.zero_grad()\n",
    "            cost.backward()\n",
    "            optim.step()\n",
    "            costs_train.append(cost)\n",
    "            scores_train.append(score(out, l))\n",
    "        train_loss.append(torch.tensor(costs_train).mean())\n",
    "        train_score.append(torch.tensor(scores_train).mean())\n",
    "\n",
    "        ####### VALID #######\n",
    "        costs_val = []\n",
    "        scores_val = []\n",
    "        for batch in val_iter:\n",
    "            t = batch.text \n",
    "            l = batch.label \n",
    "            x = nn_embeddings(t).transpose(1,2)\n",
    "\n",
    "            out = model(x)\n",
    "            cost = loss(out, l)\n",
    "            costs_val.append(cost)\n",
    "            scores_val.append(score(out,l))\n",
    "        val_score.append(torch.tensor(scores_val).mean())\n",
    "        val_loss.append(torch.tensor(costs_val).mean())\n",
    "    \n",
    "    return train_loss, val_loss, train_score, val_score"
   ]
  },
  {
   "cell_type": "markdown",
   "metadata": {},
   "source": [
    "Score"
   ]
  },
  {
   "cell_type": "code",
   "execution_count": 9,
   "metadata": {},
   "outputs": [],
   "source": [
    "def score(_input, target):\n",
    "    \"\"\" Calculate core \"\"\"\n",
    "    return (_input.argmax(1) == target).float().mean()"
   ]
  },
  {
   "cell_type": "markdown",
   "metadata": {},
   "source": [
    "Affichage"
   ]
  },
  {
   "cell_type": "code",
   "execution_count": 10,
   "metadata": {},
   "outputs": [],
   "source": [
    "import matplotlib.pyplot as plt\n",
    "\n",
    "def plot_loss_score(train_loss, val_loss, train_score, val_score):\n",
    "    # Loss\n",
    "    plt.figure(figsize=(10,7))\n",
    "    plt.plot(train_loss, c=\"red\", label=\"train\")\n",
    "    plt.plot(val_loss, c=\"b\", label=\"val\")\n",
    "    plt.legend(loc=\"best\")\n",
    "    plt.show()\n",
    "    \n",
    "    # Score\n",
    "    plt.figure(figsize=(10,7))\n",
    "    plt.plot(train_score, c=\"red\", label=\"train\")\n",
    "    plt.plot(val_score, c=\"b\", label=\"val\")\n",
    "    plt.legend(loc=\"best\")\n",
    "    plt.show()"
   ]
  },
  {
   "cell_type": "markdown",
   "metadata": {},
   "source": [
    "Essai 1 : Sentiment Analysis"
   ]
  },
  {
   "cell_type": "code",
   "execution_count": 83,
   "metadata": {},
   "outputs": [
    {
     "name": "stderr",
     "output_type": "stream",
     "text": [
      "100%|██████████| 20/20 [00:06<00:00,  2.99it/s]\n"
     ]
    },
    {
     "data": {
      "image/png": "[encoded data removed]",
      "text/plain": [
       "<Figure size 720x504 with 1 Axes>"
      ]
     },
     "metadata": {},
     "output_type": "display_data"
    },
    {
     "data": {
      "image/png": "[encoded data removed]",
      "text/plain": [
       "<Figure size 720x504 with 1 Axes>"
      ]
     },
     "metadata": {},
     "output_type": "display_data"
    }
   ],
   "source": [
    "model = ConvNet1(100)\n",
    "\n",
    "res = fit_eval(model, train_iter, val_iter)\n",
    "plot_loss_score(*res)"
   ]
  },
  {
   "cell_type": "code",
   "execution_count": 12,
   "metadata": {},
   "outputs": [
    {
     "name": "stderr",
     "output_type": "stream",
     "text": [
      "100%|██████████████████████████████████████████| 20/20 [00:25<00:00,  1.26s/it]\n"
     ]
    },
    {
     "data": {
      "image/png": "[encoded data removed]",
      "text/plain": [
       "<Figure size 720x504 with 1 Axes>"
      ]
     },
     "metadata": {},
     "output_type": "display_data"
    },
    {
     "data": {
      "image/png": "[encoded data removed]",
      "text/plain": [
       "<Figure size 720x504 with 1 Axes>"
      ]
     },
     "metadata": {},
     "output_type": "display_data"
    }
   ],
   "source": [
    "model = ConvNet1(100)\n",
    "\n",
    "res = fit_eval(model, train_iter, val_iter)\n",
    "plot_loss_score(*res)"
   ]
  },
  {
   "cell_type": "markdown",
   "metadata": {},
   "source": [
    "Que se passe-t-il dans un CNN ?\n",
    "- Etude des filtres\n",
    "\n",
    "Travail en batch :\n",
    "\n",
    "Chaque vecteur correspond à un filtre. Remonter l'information de position, savoir à quelle portion de l'entrée le vecteur fait référence.\n",
    "\n",
    "- Pour chaque phrase, pour chaque composante, voir le max\n",
    "- Quels sont les bouts de séquence qui activent le plus de filtre ?\n",
    "- $ (w_i, s_i) \\rightarrow (w, s) \\rightarrow (w_0, s_0) $ : voir le stride\n",
    "- La j ième sortie correspond à $ (j_{s_0}) ...  (j_{s_0} + w_0 - 1) $"
   ]
  },
  {
   "cell_type": "markdown",
   "metadata": {},
   "source": [
    "Qu'est ce qui explique ma classification ?\n",
    "\n",
    "Quelles sont les parties de ma phrase qui définissent ce qui est positif, négatif ?\n",
    "\n",
    "Procédure :\n",
    "\n",
    "Conv -> MaxPooling (1 vecteur en sortie) -> Softmax\n",
    "\n",
    "ex : Comment varie l'embedding par rapport à la sortie ?\n",
    "- Gradient de la sortie correspondante dans le module linéaire au niveau de Softmax par rapport à l'entrée x\n",
    "- Si on s'aperçoit que les dérivées sont fortes $ \\rightarrow $ importance\n",
    "- Norme du gradient de X par rapport au j ième vecteur (ne pas oublier requires_grad=True)"
   ]
  },
  {
   "cell_type": "markdown",
   "metadata": {},
   "source": [
    "Poids de la couche de convolution"
   ]
  },
  {
   "cell_type": "code",
   "execution_count": 84,
   "metadata": {},
   "outputs": [
    {
     "name": "stderr",
     "output_type": "stream",
     "text": [
      "Clipping input data to the valid range for imshow with RGB data ([0..1] for floats or [0..255] for integers).\n"
     ]
    },
    {
     "data": {
      "text/plain": [
       "<matplotlib.image.AxesImage at 0x7fc75e1c62e8>"
      ]
     },
     "execution_count": 84,
     "metadata": {},
     "output_type": "execute_result"
    },
    {
     "data": {
      "image/png": "[encoded data removed]",
      "text/plain": [
       "<Figure size 432x288 with 1 Axes>"
      ]
     },
     "metadata": {},
     "output_type": "display_data"
    }
   ],
   "source": [
    "plt.imshow(model.conv.weight.detach().numpy())"
   ]
  },
  {
   "cell_type": "markdown",
   "metadata": {},
   "source": [
    " ### Phrases qui activent le plus le filtre"
   ]
  },
  {
   "cell_type": "code",
   "execution_count": 13,
   "metadata": {},
   "outputs": [],
   "source": [
    "import copy\n",
    "import numpy as np\n",
    "\n",
    "def extract_sentences(out, batch, TEXT, k, f):\n",
    "    \"\"\" \n",
    "        :out: sortie de la convolution\n",
    "        :batch: phrases en mots du batch\n",
    "        :TEXT: Structure des données textuelles\n",
    "        :k: nombre de phrases\n",
    "        :f: filtre à étudier\n",
    "    \"\"\"\n",
    "    \n",
    "    out_mean = copy.copy(out).detach().numpy()\n",
    "    out_test = out_mean[:,f]\n",
    "    out_test = np.amax(out_test, axis=1)\n",
    "    print(out_test.shape)\n",
    "    list_sentences = []\n",
    "    plt.imshow(out_mean[:20,f])\n",
    "    plt.show()\n",
    "    for i in range(k):\n",
    "        m = out_test.argmax()\n",
    "        print(out_mean[m,f].argmax())\n",
    "        sentence = TEXT.reverse(t[m:m+1].data)\n",
    "        list_sentences.append(sentence)\n",
    "        plt.imshow(out_mean[m,f:f+1])\n",
    "        plt.show()\n",
    "        print(sentence)\n",
    "        out_test[m] = -1\n",
    "        \n",
    "    return list_sentences"
   ]
  },
  {
   "cell_type": "code",
   "execution_count": null,
   "metadata": {},
   "outputs": [],
   "source": [
    "..."
   ]
  },
  {
   "cell_type": "code",
   "execution_count": null,
   "metadata": {},
   "outputs": [],
   "source": []
  },
  {
   "cell_type": "markdown",
   "metadata": {},
   "source": [
    "---"
   ]
  },
  {
   "cell_type": "markdown",
   "metadata": {},
   "source": [
    "## 2. MNIST"
   ]
  },
  {
   "cell_type": "markdown",
   "metadata": {},
   "source": [
    "### Préparation des données"
   ]
  },
  {
   "cell_type": "code",
   "execution_count": 4,
   "metadata": {},
   "outputs": [],
   "source": [
    "batch_size=32\n",
    "nb_digits=10\n",
    "\n",
    "train_loader = torch.utils.data.DataLoader(\n",
    "    datasets_vision.MNIST('../data', train=True, download=True, transform=transforms.Compose([\n",
    "        transforms.ToTensor(),\n",
    "        transforms.Normalize((0.1307,),(0.3081,))\n",
    "    ])), batch_size=batch_size, shuffle=True) \n",
    "\n",
    "test_loader = torch.utils.data.DataLoader(\n",
    "    datasets_vision.MNIST('../data', train=False, download=True, transform=transforms.Compose([\n",
    "        transforms.ToTensor(),\n",
    "        transforms.Normalize((0.1307,),(0.3081,))\n",
    "    ])), batch_size=batch_size)"
   ]
  },
  {
   "cell_type": "markdown",
   "metadata": {},
   "source": [
    "Dimensions"
   ]
  },
  {
   "cell_type": "code",
   "execution_count": 5,
   "metadata": {},
   "outputs": [
    {
     "name": "stdout",
     "output_type": "stream",
     "text": [
      "torch.Size([32, 1, 28, 28]) torch.Size([32])\n"
     ]
    }
   ],
   "source": [
    "for i, (x, y) in enumerate(train_loader):\n",
    "    ex, label = x, y\n",
    "    break\n",
    "\n",
    "print(ex.shape, label.shape)"
   ]
  },
  {
   "cell_type": "markdown",
   "metadata": {},
   "source": [
    "Affichage des chiffres"
   ]
  },
  {
   "cell_type": "code",
   "execution_count": 17,
   "metadata": {},
   "outputs": [
    {
     "data": {
      "image/png": "[encoded data removed]",
      "text/plain": [
       "<Figure size 432x288 with 1 Axes>"
      ]
     },
     "metadata": {
      "needs_background": "light"
     },
     "output_type": "display_data"
    },
    {
     "data": {
      "image/png": "[encoded data removed]",
      "text/plain": [
       "<Figure size 432x288 with 1 Axes>"
      ]
     },
     "metadata": {
      "needs_background": "light"
     },
     "output_type": "display_data"
    },
    {
     "data": {
      "image/png": "[encoded data removed]",
      "text/plain": [
       "<Figure size 432x288 with 1 Axes>"
      ]
     },
     "metadata": {
      "needs_background": "light"
     },
     "output_type": "display_data"
    }
   ],
   "source": [
    "for i in range(3):\n",
    "    plt.title(label[i].item())\n",
    "    plt.imshow(ex[i][0])\n",
    "    plt.show()"
   ]
  },
  {
   "cell_type": "markdown",
   "metadata": {},
   "source": [
    "### Analyse"
   ]
  },
  {
   "cell_type": "markdown",
   "metadata": {},
   "source": [
    "Apprentissage"
   ]
  },
  {
   "cell_type": "code",
   "execution_count": 6,
   "metadata": {},
   "outputs": [],
   "source": [
    "def fit_eval2(model, train_iter, val_iter, loss=nn.CrossEntropyLoss(), n_epochs=20, lr=1e-3):\n",
    "    optim = torch.optim.Adam(model.parameters(), lr=lr)\n",
    "    \n",
    "    train_loss = []\n",
    "    val_loss = []\n",
    "\n",
    "    train_score = []\n",
    "    val_score = []\n",
    "    \n",
    "    # Fit / Eval\n",
    "    #--------------------------------------------------------\n",
    "    for i in tqdm(range(n_epochs)):\n",
    "        ####### TRAIN #######\n",
    "        costs_train = []\n",
    "        scores_train = []\n",
    "        for x, l in train_iter:\n",
    "            out = model(x)\n",
    "            cost = loss(out, l)\n",
    "            optim.zero_grad()\n",
    "            cost.backward()\n",
    "            optim.step()\n",
    "            costs_train.append(cost)\n",
    "            scores_train.append(score(out, l))\n",
    "        train_loss.append(torch.tensor(costs_train).mean())\n",
    "        train_score.append(torch.tensor(scores_train).mean())\n",
    "\n",
    "        ####### VALID #######\n",
    "        costs_val = []\n",
    "        scores_val = []\n",
    "        for x, l in val_iter:\n",
    "            out = model(x)\n",
    "            cost = loss(out, l)\n",
    "            costs_val.append(cost)\n",
    "            scores_val.append(score(out,l))\n",
    "        val_score.append(torch.tensor(scores_val).mean())\n",
    "        val_loss.append(torch.tensor(costs_val).mean())\n",
    "    \n",
    "    return train_loss, val_loss, train_score, val_score"
   ]
  },
  {
   "cell_type": "markdown",
   "metadata": {},
   "source": [
    "Essai 1 : MNIST ConvNet1"
   ]
  },
  {
   "cell_type": "code",
   "execution_count": 13,
   "metadata": {
    "scrolled": false
   },
   "outputs": [
    {
     "name": "stderr",
     "output_type": "stream",
     "text": [
      "100%|██████████████████████████████████████████| 20/20 [05:43<00:00, 15.72s/it]\n"
     ]
    },
    {
     "data": {
      "image/png": "[encoded data removed]",
      "text/plain": [
       "<Figure size 720x504 with 1 Axes>"
      ]
     },
     "metadata": {},
     "output_type": "display_data"
    },
    {
     "data": {
      "image/png": "[encoded data removed]",
      "text/plain": [
       "<Figure size 720x504 with 1 Axes>"
      ]
     },
     "metadata": {},
     "output_type": "display_data"
    }
   ],
   "source": [
    "model = ConvNet2(1, 10)\n",
    "\n",
    "res = fit_eval2(model, train_loader, test_loader)\n",
    "plot_loss_score(*res)"
   ]
  },
  {
   "cell_type": "markdown",
   "metadata": {},
   "source": [
    "Visualisation poids"
   ]
  },
  {
   "cell_type": "code",
   "execution_count": 14,
   "metadata": {},
   "outputs": [
    {
     "name": "stderr",
     "output_type": "stream",
     "text": [
      "Clipping input data to the valid range for imshow with RGB data ([0..1] for floats or [0..255] for integers).\n"
     ]
    },
    {
     "data": {
      "text/plain": [
       "<matplotlib.image.AxesImage at 0x1feabe55c88>"
      ]
     },
     "execution_count": 14,
     "metadata": {},
     "output_type": "execute_result"
    },
    {
     "data": {
      "image/png": "[encoded data removed]",
      "text/plain": [
       "<Figure size 432x288 with 1 Axes>"
      ]
     },
     "metadata": {},
     "output_type": "display_data"
    }
   ],
   "source": [
    "plt.imshow(model.conv[0].weight.detach().numpy().reshape(3,3,3))"
   ]
  },
  {
   "cell_type": "markdown",
   "metadata": {},
   "source": [
    "Essai 2 : MNIST ConvNet2"
   ]
  },
  {
   "cell_type": "code",
   "execution_count": null,
   "metadata": {},
   "outputs": [
    {
     "name": "stderr",
     "output_type": "stream",
     "text": [
      " 35%|███▌      | 7/20 [18:36<39:23, 181.81s/it]ERROR:root:Internal Python error in the inspect module.\n",
      "Below is the traceback from this internal error.\n",
      "\n",
      "ERROR:tornado.general:Uncaught exception in ZMQStream callback\n",
      "Traceback (most recent call last):\n",
      "  File \"/usr/local/lib/python3.5/dist-packages/IPython/core/interactiveshell.py\", line 2961, in run_code\n",
      "    exec(code_obj, self.user_global_ns, self.user_ns)\n",
      "  File \"<ipython-input-11-7f8616aa9fdb>\", line 3, in <module>\n",
      "    res = fit_eval2(model, train_loader, test_loader)\n",
      "  File \"<ipython-input-10-7372714b6886>\", line 16, in fit_eval2\n",
      "    for x, l in train_iter:\n",
      "  File \"/users/Enseignants/baskiotis/.local/lib/python3.5/site-packages/torch/utils/data/dataloader.py\", line 314, in __next__\n",
      "    batch = self.collate_fn([self.dataset[i] for i in indices])\n",
      "  File \"/users/Enseignants/baskiotis/.local/lib/python3.5/site-packages/torch/utils/data/dataloader.py\", line 314, in <listcomp>\n",
      "    batch = self.collate_fn([self.dataset[i] for i in indices])\n",
      "  File \"/usr/local/lib/python3.5/dist-packages/torchvision/datasets/mnist.py\", line 77, in __getitem__\n",
      "    img = self.transform(img)\n",
      "  File \"/usr/local/lib/python3.5/dist-packages/torchvision/transforms/transforms.py\", line 49, in __call__\n",
      "    img = t(img)\n",
      "  File \"/usr/local/lib/python3.5/dist-packages/torchvision/transforms/transforms.py\", line 76, in __call__\n",
      "    return F.to_tensor(pic)\n",
      "  File \"/usr/local/lib/python3.5/dist-packages/torchvision/transforms/functional.py\", line 70, in to_tensor\n",
      "    img = torch.ByteTensor(torch.ByteStorage.from_buffer(pic.tobytes()))\n",
      "KeyboardInterrupt\n",
      "\n",
      "During handling of the above exception, another exception occurred:\n",
      "\n",
      "Traceback (most recent call last):\n",
      "  File \"/usr/local/lib/python3.5/dist-packages/IPython/core/interactiveshell.py\", line 1863, in showtraceback\n",
      "    stb = value._render_traceback_()\n",
      "AttributeError: 'KeyboardInterrupt' object has no attribute '_render_traceback_'\n",
      "\n",
      "During handling of the above exception, another exception occurred:\n",
      "\n",
      "Traceback (most recent call last):\n",
      "  File \"/usr/local/lib/python3.5/dist-packages/IPython/core/ultratb.py\", line 1095, in get_records\n",
      "    return _fixed_getinnerframes(etb, number_of_lines_of_context, tb_offset)\n",
      "  File \"/usr/local/lib/python3.5/dist-packages/IPython/core/ultratb.py\", line 311, in wrapped\n",
      "    return f(*args, **kwargs)\n",
      "  File \"/usr/local/lib/python3.5/dist-packages/IPython/core/ultratb.py\", line 345, in _fixed_getinnerframes\n",
      "    records = fix_frame_records_filenames(inspect.getinnerframes(etb, context))\n",
      "  File \"/usr/lib/python3.5/inspect.py\", line 1454, in getinnerframes\n",
      "    frameinfo = (tb.tb_frame,) + getframeinfo(tb, context)\n",
      "  File \"/usr/lib/python3.5/inspect.py\", line 1411, in getframeinfo\n",
      "    filename = getsourcefile(frame) or getfile(frame)\n",
      "  File \"/usr/lib/python3.5/inspect.py\", line 671, in getsourcefile\n",
      "    if getattr(getmodule(object, filename), '__loader__', None) is not None:\n",
      "  File \"/usr/lib/python3.5/inspect.py\", line 708, in getmodule\n",
      "    if ismodule(module) and hasattr(module, '__file__'):\n",
      "KeyboardInterrupt\n",
      "\n",
      "During handling of the above exception, another exception occurred:\n",
      "\n",
      "Traceback (most recent call last):\n",
      "  File \"/usr/local/lib/python3.5/dist-packages/IPython/core/interactiveshell.py\", line 1866, in showtraceback\n",
      "    value, tb, tb_offset=tb_offset)\n",
      "  File \"/usr/local/lib/python3.5/dist-packages/IPython/core/ultratb.py\", line 1373, in structured_traceback\n",
      "    self, etype, value, tb, tb_offset, number_of_lines_of_context)\n",
      "  File \"/usr/local/lib/python3.5/dist-packages/IPython/core/ultratb.py\", line 1281, in structured_traceback\n",
      "    self, etype, value, tb, tb_offset, number_of_lines_of_context\n",
      "  File \"/usr/local/lib/python3.5/dist-packages/IPython/core/ultratb.py\", line 1133, in structured_traceback\n",
      "    tb_offset)\n",
      "  File \"/usr/local/lib/python3.5/dist-packages/IPython/core/ultratb.py\", line 1071, in format_exception_as_a_whole\n",
      "    records = self.get_records(etb, number_of_lines_of_context, tb_offset)\n",
      "  File \"/usr/local/lib/python3.5/dist-packages/IPython/core/ultratb.py\", line 1109, in get_records\n",
      "    inspect_error()\n",
      "  File \"/usr/local/lib/python3.5/dist-packages/IPython/core/ultratb.py\", line 147, in inspect_error\n",
      "    error('Internal Python error in the inspect module.\\n'\n",
      "  File \"/usr/lib/python3.5/logging/__init__.py\", line 1806, in error\n",
      "    root.error(msg, *args, **kwargs)\n",
      "  File \"/usr/lib/python3.5/logging/__init__.py\", line 1309, in error\n",
      "    self._log(ERROR, msg, args, **kwargs)\n",
      "  File \"/usr/lib/python3.5/logging/__init__.py\", line 1404, in _log\n",
      "    fn, lno, func, sinfo = self.findCaller(stack_info)\n",
      "  File \"/usr/lib/python3.5/logging/__init__.py\", line 1353, in findCaller\n",
      "    f = currentframe()\n",
      "  File \"/usr/lib/python3.5/logging/__init__.py\", line 150, in <lambda>\n",
      "    currentframe = lambda: sys._getframe(3)\n",
      "KeyboardInterrupt\n",
      "\n",
      "During handling of the above exception, another exception occurred:\n",
      "\n",
      "Traceback (most recent call last):\n",
      "  File \"/usr/local/lib/python3.5/dist-packages/IPython/core/interactiveshell.py\", line 2901, in run_ast_nodes\n",
      "    if self.run_code(code, result):\n",
      "  File \"/usr/local/lib/python3.5/dist-packages/IPython/core/interactiveshell.py\", line 2978, in run_code\n",
      "    self.showtraceback(running_compiled_code=True)\n",
      "  File \"/usr/local/lib/python3.5/dist-packages/IPython/core/interactiveshell.py\", line 1878, in showtraceback\n",
      "    print('\\n' + self.get_exception_only(), file=sys.stderr)\n",
      "  File \"/usr/local/lib/python3.5/dist-packages/IPython/core/interactiveshell.py\", line 1823, in get_exception_only\n",
      "    msg = traceback.format_exception_only(etype, value)\n",
      "  File \"/usr/lib/python3.5/traceback.py\", line 136, in format_exception_only\n",
      "    return list(TracebackException(etype, value, None).format_exception_only())\n",
      "  File \"/usr/lib/python3.5/traceback.py\", line 463, in __init__\n",
      "    _seen=_seen)\n",
      "  File \"/usr/lib/python3.5/traceback.py\", line 463, in __init__\n",
      "    _seen=_seen)\n",
      "  File \"/usr/lib/python3.5/traceback.py\", line 463, in __init__\n",
      "    _seen=_seen)\n",
      "  File \"/usr/lib/python3.5/traceback.py\", line 474, in __init__\n",
      "    capture_locals=capture_locals)\n",
      "  File \"/usr/lib/python3.5/traceback.py\", line 345, in extract\n",
      "    linecache.lazycache(filename, f.f_globals)\n",
      "  File \"/usr/lib/python3.5/linecache.py\", line 160, in lazycache\n",
      "    if filename in cache:\n",
      "KeyboardInterrupt\n",
      "\n",
      "During handling of the above exception, another exception occurred:\n",
      "\n",
      "Traceback (most recent call last):\n",
      "  File \"/usr/local/lib/python3.5/dist-packages/IPython/core/interactiveshell.py\", line 1863, in showtraceback\n",
      "    stb = value._render_traceback_()\n",
      "AttributeError: 'KeyboardInterrupt' object has no attribute '_render_traceback_'\n",
      "\n",
      "During handling of the above exception, another exception occurred:\n",
      "\n",
      "Traceback (most recent call last):\n",
      "  File \"/usr/local/lib/python3.5/dist-packages/IPython/core/ultratb.py\", line 1095, in get_records\n",
      "    return _fixed_getinnerframes(etb, number_of_lines_of_context, tb_offset)\n",
      "  File \"/usr/local/lib/python3.5/dist-packages/IPython/core/ultratb.py\", line 311, in wrapped\n",
      "    return f(*args, **kwargs)\n",
      "  File \"/usr/local/lib/python3.5/dist-packages/IPython/core/ultratb.py\", line 345, in _fixed_getinnerframes\n",
      "    records = fix_frame_records_filenames(inspect.getinnerframes(etb, context))\n",
      "  File \"/usr/lib/python3.5/inspect.py\", line 1454, in getinnerframes\n",
      "    frameinfo = (tb.tb_frame,) + getframeinfo(tb, context)\n",
      "  File \"/usr/lib/python3.5/inspect.py\", line 1415, in getframeinfo\n",
      "    lines, lnum = findsource(frame)\n",
      "  File \"/usr/local/lib/python3.5/dist-packages/IPython/core/ultratb.py\", line 177, in findsource\n",
      "    lines = linecache.getlines(file, globals_dict)\n",
      "  File \"/usr/lib/python3.5/linecache.py\", line 47, in getlines\n",
      "    return updatecache(filename, module_globals)\n",
      "  File \"/usr/lib/python3.5/linecache.py\", line 136, in updatecache\n",
      "    with tokenize.open(fullname) as fp:\n",
      "  File \"/usr/lib/python3.5/tokenize.py\", line 456, in open\n",
      "    encoding, lines = detect_encoding(buffer.readline)\n",
      "  File \"/usr/lib/python3.5/tokenize.py\", line 426, in detect_encoding\n",
      "    if first.startswith(BOM_UTF8):\n",
      "KeyboardInterrupt\n",
      "\n",
      "During handling of the above exception, another exception occurred:\n",
      "\n",
      "Traceback (most recent call last):\n",
      "  File \"/usr/local/lib/python3.5/dist-packages/IPython/core/interactiveshell.py\", line 1866, in showtraceback\n",
      "    value, tb, tb_offset=tb_offset)\n",
      "  File \"/usr/local/lib/python3.5/dist-packages/IPython/core/ultratb.py\", line 1373, in structured_traceback\n",
      "    self, etype, value, tb, tb_offset, number_of_lines_of_context)\n",
      "  File \"/usr/local/lib/python3.5/dist-packages/IPython/core/ultratb.py\", line 1281, in structured_traceback\n",
      "    self, etype, value, tb, tb_offset, number_of_lines_of_context\n",
      "  File \"/usr/local/lib/python3.5/dist-packages/IPython/core/ultratb.py\", line 1133, in structured_traceback\n",
      "    tb_offset)\n",
      "  File \"/usr/local/lib/python3.5/dist-packages/IPython/core/ultratb.py\", line 1071, in format_exception_as_a_whole\n",
      "    records = self.get_records(etb, number_of_lines_of_context, tb_offset)\n",
      "  File \"/usr/local/lib/python3.5/dist-packages/IPython/core/ultratb.py\", line 1110, in get_records\n",
      "    traceback.print_exc(file=self.ostream)\n",
      "  File \"/usr/lib/python3.5/traceback.py\", line 159, in print_exc\n",
      "    print_exception(*sys.exc_info(), limit=limit, file=file, chain=chain)\n",
      "  File \"/usr/lib/python3.5/traceback.py\", line 100, in print_exception\n",
      "    type(value), value, tb, limit=limit).format(chain=chain):\n",
      "  File \"/usr/lib/python3.5/traceback.py\", line 463, in __init__\n",
      "    _seen=_seen)\n",
      "  File \"/usr/lib/python3.5/traceback.py\", line 463, in __init__\n",
      "    _seen=_seen)\n",
      "  File \"/usr/lib/python3.5/traceback.py\", line 463, in __init__\n",
      "    _seen=_seen)\n",
      "  File \"/usr/lib/python3.5/traceback.py\", line 463, in __init__\n",
      "    _seen=_seen)\n",
      "  File \"/usr/lib/python3.5/traceback.py\", line 463, in __init__\n",
      "    _seen=_seen)\n",
      "  File \"/usr/lib/python3.5/traceback.py\", line 463, in __init__\n",
      "    _seen=_seen)\n",
      "  File \"/usr/lib/python3.5/traceback.py\", line 474, in __init__\n",
      "    capture_locals=capture_locals)\n",
      "  File \"/usr/lib/python3.5/traceback.py\", line 345, in extract\n",
      "    linecache.lazycache(filename, f.f_globals)\n",
      "  File \"/usr/lib/python3.5/linecache.py\", line 171, in lazycache\n",
      "    get_source = getattr(loader, 'get_source', None)\n",
      "KeyboardInterrupt\n",
      "\n",
      "During handling of the above exception, another exception occurred:\n",
      "\n",
      "Traceback (most recent call last):\n",
      "  File \"/usr/local/lib/python3.5/dist-packages/IPython/core/interactiveshell.py\", line 2785, in _run_cell\n",
      "    interactivity=interactivity, compiler=compiler, result=result)\n",
      "  File \"/usr/local/lib/python3.5/dist-packages/IPython/core/interactiveshell.py\", line 2926, in run_ast_nodes\n",
      "    self.showtraceback()\n",
      "  File \"/usr/local/lib/python3.5/dist-packages/IPython/core/interactiveshell.py\", line 1878, in showtraceback\n",
      "    print('\\n' + self.get_exception_only(), file=sys.stderr)\n",
      "  File \"/usr/local/lib/python3.5/dist-packages/IPython/core/interactiveshell.py\", line 1823, in get_exception_only\n",
      "    msg = traceback.format_exception_only(etype, value)\n",
      "  File \"/usr/lib/python3.5/traceback.py\", line 136, in format_exception_only\n",
      "    return list(TracebackException(etype, value, None).format_exception_only())\n",
      "  File \"/usr/lib/python3.5/traceback.py\", line 487, in __init__\n",
      "    self._load_lines()\n",
      "  File \"/usr/lib/python3.5/traceback.py\", line 500, in _load_lines\n",
      "    self.__context__._load_lines()\n",
      "  File \"/usr/lib/python3.5/traceback.py\", line 498, in _load_lines\n",
      "    frame.line\n",
      "  File \"/usr/lib/python3.5/traceback.py\", line 282, in line\n",
      "    self._line = linecache.getline(self.filename, self.lineno).strip()\n",
      "  File \"/usr/lib/python3.5/linecache.py\", line 16, in getline\n",
      "    lines = getlines(filename, module_globals)\n",
      "  File \"/usr/lib/python3.5/linecache.py\", line 47, in getlines\n",
      "    return updatecache(filename, module_globals)\n",
      "  File \"/usr/lib/python3.5/linecache.py\", line 136, in updatecache\n",
      "    with tokenize.open(fullname) as fp:\n",
      "  File \"/usr/lib/python3.5/tokenize.py\", line 456, in open\n",
      "    encoding, lines = detect_encoding(buffer.readline)\n",
      "  File \"/usr/lib/python3.5/tokenize.py\", line 425, in detect_encoding\n",
      "    first = read_or_stop()\n",
      "  File \"/usr/lib/python3.5/tokenize.py\", line 383, in read_or_stop\n",
      "    return readline()\n",
      "KeyboardInterrupt\n",
      "\n",
      "During handling of the above exception, another exception occurred:\n",
      "\n",
      "Traceback (most recent call last):\n",
      "  File \"/usr/local/lib/python3.5/dist-packages/IPython/core/interactiveshell.py\", line 2785, in _run_cell\n",
      "    interactivity=interactivity, compiler=compiler, result=result)\n",
      "KeyboardInterrupt\n",
      "\n",
      "During handling of the above exception, another exception occurred:\n",
      "\n",
      "Traceback (most recent call last):\n",
      "  File \"/usr/local/lib/python3.5/dist-packages/IPython/core/interactiveshell.py\", line 2662, in run_cell\n",
      "    raw_cell, store_history, silent, shell_futures)\n",
      "  File \"/usr/local/lib/python3.5/dist-packages/IPython/core/interactiveshell.py\", line 2792, in _run_cell\n",
      "    self.displayhook.exec_result = None\n",
      "  File \"/usr/local/lib/python3.5/dist-packages/IPython/core/builtin_trap.py\", line 46, in __exit__\n",
      "    def __exit__(self, type, value, traceback):\n",
      "KeyboardInterrupt\n",
      "\n",
      "During handling of the above exception, another exception occurred:\n",
      "\n",
      "Traceback (most recent call last):\n",
      "  File \"/usr/local/lib/python3.5/dist-packages/zmq/eventloop/zmqstream.py\", line 432, in _run_callback\n",
      "    callback(*args, **kwargs)\n",
      "  File \"/usr/local/lib/python3.5/dist-packages/tornado/stack_context.py\", line 300, in null_wrapper\n",
      "    return fn(*args, **kwargs)\n",
      "  File \"/usr/local/lib/python3.5/dist-packages/ipykernel/kernelbase.py\", line 283, in dispatcher\n",
      "    return self.dispatch_shell(stream, msg)\n",
      "  File \"/usr/local/lib/python3.5/dist-packages/ipykernel/kernelbase.py\", line 233, in dispatch_shell\n",
      "    handler(stream, idents, msg)\n",
      "  File \"/usr/local/lib/python3.5/dist-packages/ipykernel/kernelbase.py\", line 399, in execute_request\n",
      "    user_expressions, allow_stdin)\n",
      "  File \"/usr/local/lib/python3.5/dist-packages/ipykernel/ipkernel.py\", line 208, in do_execute\n",
      "    res = shell.run_cell(code, store_history=store_history, silent=silent)\n",
      "  File \"/usr/local/lib/python3.5/dist-packages/ipykernel/zmqshell.py\", line 537, in run_cell\n",
      "    return super(ZMQInteractiveShell, self).run_cell(*args, **kwargs)\n",
      "  File \"/usr/local/lib/python3.5/dist-packages/IPython/core/interactiveshell.py\", line 2664, in run_cell\n",
      "    self.events.trigger('post_execute')\n",
      "  File \"/usr/local/lib/python3.5/dist-packages/IPython/core/events.py\", line 88, in trigger\n",
      "    func(*args, **kwargs)\n",
      "  File \"/usr/local/lib/python3.5/dist-packages/matplotlib/pyplot.py\", line 148, in post_execute\n",
      "    if matplotlib.is_interactive():\n",
      "KeyboardInterrupt\n"
     ]
    },
    {
     "name": "stderr",
     "output_type": "stream",
     "text": [
      "Exception ignored in: <bound method tqdm.__del__ of  35%|███▌      | 7/20 [20:36<39:23, 181.81s/it]>\n",
      "Traceback (most recent call last):\n",
      "  File \"/users/Enseignants/baskiotis/.local/lib/python3.5/site-packages/tqdm/_tqdm.py\", line 931, in __del__\n",
      "    self.close()\n",
      "  File \"/users/Enseignants/baskiotis/.local/lib/python3.5/site-packages/tqdm/_tqdm.py\", line 1133, in close\n",
      "    self._decr_instances(self)\n",
      "  File \"/users/Enseignants/baskiotis/.local/lib/python3.5/site-packages/tqdm/_tqdm.py\", line 496, in _decr_instances\n",
      "    cls.monitor.exit()\n",
      "  File \"/users/Enseignants/baskiotis/.local/lib/python3.5/site-packages/tqdm/_monitor.py\", line 52, in exit\n",
      "    self.join()\n",
      "  File \"/usr/lib/python3.5/threading.py\", line 1051, in join\n",
      "    raise RuntimeError(\"cannot join current thread\")\n",
      "RuntimeError: cannot join current thread\n"
     ]
    }
   ],
   "source": [
    "## A NE PAS LANCER, FAIT PLANTER\n",
    "model = ConvNet3(1, 10)\n",
    "\n",
    "res = fit_eval2(model, train_loader, test_loader)\n",
    "plot_loss_score(*res)"
   ]
  },
  {
   "cell_type": "markdown",
   "metadata": {},
   "source": [
    "Problème de ressources"
   ]
  },
  {
   "cell_type": "code",
   "execution_count": null,
   "metadata": {},
   "outputs": [],
   "source": []
  },
  {
   "cell_type": "code",
   "execution_count": null,
   "metadata": {},
   "outputs": [],
   "source": []
  },
  {
   "cell_type": "code",
   "execution_count": null,
   "metadata": {},
   "outputs": [],
   "source": []
  },
  {
   "cell_type": "code",
   "execution_count": null,
   "metadata": {},
   "outputs": [],
   "source": []
  },
  {
   "cell_type": "code",
   "execution_count": null,
   "metadata": {},
   "outputs": [],
   "source": []
  },
  {
   "cell_type": "code",
   "execution_count": null,
   "metadata": {},
   "outputs": [],
   "source": []
  },
  {
   "cell_type": "code",
   "execution_count": null,
   "metadata": {},
   "outputs": [],
   "source": []
  },
  {
   "cell_type": "code",
   "execution_count": null,
   "metadata": {},
   "outputs": [],
   "source": []
  },
  {
   "cell_type": "code",
   "execution_count": null,
   "metadata": {},
   "outputs": [],
   "source": []
  },
  {
   "cell_type": "code",
   "execution_count": null,
   "metadata": {},
   "outputs": [],
   "source": []
  }
 ],
 "metadata": {
  "kernelspec": {
   "display_name": "Python 3",
   "language": "python",
   "name": "python3"
  },
  "language_info": {
   "codemirror_mode": {
    "name": "ipython",
    "version": 3
   },
   "file_extension": ".py",
   "mimetype": "text/x-python",
   "name": "python",
   "nbconvert_exporter": "python",
   "pygments_lexer": "ipython3",
   "version": "3.6.5"
  }
 },
 "nbformat": 4,
 "nbformat_minor": 2
}
